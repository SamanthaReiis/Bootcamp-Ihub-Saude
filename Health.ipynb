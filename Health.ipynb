{
 "cells": [
  {
   "cell_type": "code",
   "execution_count": 1,
   "metadata": {},
   "outputs": [],
   "source": [
    "import pandas as pd\n",
    "import numpy as np"
   ]
  },
  {
   "cell_type": "code",
   "execution_count": 134,
   "metadata": {},
   "outputs": [],
   "source": [
    "tech = pd.read_csv(\"tech/survey.csv\", low_memory=False, sep=',')"
   ]
  },
  {
   "cell_type": "markdown",
   "metadata": {},
   "source": [
    "# Limpeza"
   ]
  },
  {
   "cell_type": "markdown",
   "metadata": {},
   "source": [
    "Os dados possuem muitos problemas por haver muitos campos com strings. Além disso, por ser um questionário, algumas perguntas foram de campo aberto (e.g. gênero), gerando dados inconsistentes."
   ]
  },
  {
   "cell_type": "markdown",
   "metadata": {},
   "source": [
    "### Seleção de colunas"
   ]
  },
  {
   "cell_type": "markdown",
   "metadata": {},
   "source": [
    "Primeiramente, para economizar espaço, vamos cortar as colunas que não utilizaremos no projeto."
   ]
  },
  {
   "cell_type": "code",
   "execution_count": 135,
   "metadata": {},
   "outputs": [],
   "source": [
    "tech = tech.drop(['comments'], axis= 1)\n",
    "tech = tech.drop(['state'], axis= 1)\n",
    "tech = tech.drop(['Timestamp'], axis= 1)\n",
    "tech = tech.drop(['Country'], axis= 1)"
   ]
  },
  {
   "cell_type": "markdown",
   "metadata": {},
   "source": [
    "### Limpeza de valores nulos"
   ]
  },
  {
   "cell_type": "markdown",
   "metadata": {},
   "source": [
    "Para uma boa classificação, não é bom haver valores nulos. Nesta parte, preencheremos os campos nulos com valores padrão do tipo daquela coluna."
   ]
  },
  {
   "cell_type": "code",
   "execution_count": 136,
   "metadata": {},
   "outputs": [],
   "source": [
    "defaultInt = 0\n",
    "defaultString = 'NaN'\n",
    "\n",
    "intFeatures = ['Age']\n",
    "stringFeatures = ['Gender', 'self_employed', 'family_history', 'treatment', 'work_interfere',\n",
    "                 'no_employees', 'remote_work', 'tech_company', 'anonymity', 'leave', 'mental_health_consequence',\n",
    "                 'phys_health_consequence', 'coworkers', 'supervisor', 'mental_health_interview', 'phys_health_interview',\n",
    "                 'mental_vs_physical', 'obs_consequence', 'benefits', 'care_options', 'wellness_program',\n",
    "                 'seek_help']\n",
    "\n",
    "for feature in tech:\n",
    "    if feature in intFeatures:\n",
    "        tech[feature] = tech[feature].fillna(defaultInt)\n",
    "    elif feature in stringFeatures:\n",
    "        tech[feature] = tech[feature].fillna(defaultString)"
   ]
  },
  {
   "cell_type": "markdown",
   "metadata": {},
   "source": [
    "### Limpeza e rotulação da coluna de gênero"
   ]
  },
  {
   "cell_type": "markdown",
   "metadata": {},
   "source": [
    "A coluna de gênero contém muitas categorias que podem ser simplificadas. Aqui, realizamos este procedimento categorizando todos os valores dentro de 3 conjuntos: male, female e trans."
   ]
  },
  {
   "cell_type": "code",
   "execution_count": 137,
   "metadata": {},
   "outputs": [],
   "source": [
    "male_str = [\"male\", \"m\", \"male-ish\", \"maile\", \"mal\", \"male (cis)\", \"make\", \"male \", \"man\",\"msle\", \"mail\", \"malr\",\"cis man\", \"cis male\"]\n",
    "trans_str = [\"trans-female\", \"something kinda male?\", \"queer/she/they\", \"non-binary\",\"nah\", \"all\", \"enby\", \"fluid\", \"genderqueer\", \"androgyne\", \"agender\", \"male leaning androgynous\", \"guy (-ish) ^_^\", \"trans woman\", \"neuter\", \"female (trans)\", \"queer\", \"ostensibly male, unsure what that really means\"]           \n",
    "female_str = [\"cis female\", \"f\", \"female\", \"woman\",  \"femake\", \"female \",\"cis-female/femme\", \"female (cis)\", \"femail\"]\n",
    "\n",
    "for (row, col) in tech.iterrows():\n",
    "\n",
    "    if str.lower(col.Gender) in male_str:\n",
    "        tech['Gender'].replace(to_replace=col.Gender, value='male', inplace=True)\n",
    "\n",
    "    if str.lower(col.Gender) in female_str:\n",
    "        tech['Gender'].replace(to_replace=col.Gender, value='female', inplace=True)\n",
    "\n",
    "    if str.lower(col.Gender) in trans_str:\n",
    "        tech['Gender'].replace(to_replace=col.Gender, value='trans', inplace=True)\n",
    "\n",
    "stk_list = ['A little about you', 'p']\n",
    "tech = tech[~tech['Gender'].isin(stk_list)]"
   ]
  },
  {
   "cell_type": "markdown",
   "metadata": {},
   "source": [
    "### Limpeza da coluna de idade"
   ]
  },
  {
   "cell_type": "markdown",
   "metadata": {},
   "source": [
    "Existem alguns valores irreais em idade, como números negativos e números muito elevados. Visto isso, tratamos esses outliers igualando-os à média dos valores do conjunto."
   ]
  },
  {
   "cell_type": "code",
   "execution_count": 138,
   "metadata": {},
   "outputs": [],
   "source": [
    "tech['Age'].fillna(tech['Age'].median(), inplace = True)\n",
    "\n",
    "s = pd.Series(tech['Age'])\n",
    "s[(s<18) & (s>100)] = tech['Age'].median()\n",
    "tech['Age'] = s"
   ]
  },
  {
   "cell_type": "markdown",
   "metadata": {},
   "source": [
    "### Rotulação de valores nulos"
   ]
  },
  {
   "cell_type": "markdown",
   "metadata": {},
   "source": [
    "Alguns valores nulos podem ser interpretados baseado em outras respostas do questionário. Assim, alguns valores nulos são populados com outros valores categóricos. "
   ]
  },
  {
   "cell_type": "code",
   "execution_count": 140,
   "metadata": {},
   "outputs": [],
   "source": [
    "tech['self_employed'] = tech['self_employed'].replace([defaultString], 'No')\n",
    "tech['work_interfere'] = tech['work_interfere'].replace([defaultString], 'Don\\'t know' )"
   ]
  },
  {
   "cell_type": "markdown",
   "metadata": {},
   "source": [
    "# Hipóteses"
   ]
  },
  {
   "cell_type": "markdown",
   "metadata": {},
   "source": [
    "## Apoio"
   ]
  },
  {
   "cell_type": "markdown",
   "metadata": {},
   "source": [
    "Campos a serem analisados: benefits, care_options, wellness_program, seek_help, anonymity, leave"
   ]
  },
  {
   "cell_type": "code",
   "execution_count": 69,
   "metadata": {},
   "outputs": [
    {
     "data": {
      "text/plain": [
       "treatment  benefits  \n",
       "No         Don't know    257\n",
       "           No            193\n",
       "           Yes           172\n",
       "Yes        Yes           305\n",
       "           No            181\n",
       "           Don't know    151\n",
       "Name: benefits, dtype: int64"
      ]
     },
     "execution_count": 69,
     "metadata": {},
     "output_type": "execute_result"
    }
   ],
   "source": [
    "tech.groupby(['treatment'])['benefits'].value_counts()"
   ]
  },
  {
   "cell_type": "code",
   "execution_count": 70,
   "metadata": {},
   "outputs": [
    {
     "data": {
      "text/plain": [
       "treatment  care_options\n",
       "No         No              294\n",
       "           Not sure        191\n",
       "           Yes             137\n",
       "Yes        Yes             307\n",
       "           No              207\n",
       "           Not sure        123\n",
       "Name: care_options, dtype: int64"
      ]
     },
     "execution_count": 70,
     "metadata": {},
     "output_type": "execute_result"
    }
   ],
   "source": [
    "tech.groupby(['treatment'])['care_options'].value_counts()"
   ]
  },
  {
   "cell_type": "code",
   "execution_count": 71,
   "metadata": {},
   "outputs": [
    {
     "data": {
      "text/plain": [
       "treatment  wellness_program\n",
       "No         No                  422\n",
       "           Don't know          107\n",
       "           Yes                  93\n",
       "Yes        No                  420\n",
       "           Yes                 136\n",
       "           Don't know           81\n",
       "Name: wellness_program, dtype: int64"
      ]
     },
     "execution_count": 71,
     "metadata": {},
     "output_type": "execute_result"
    }
   ],
   "source": [
    "tech.groupby(['treatment'])['wellness_program'].value_counts()"
   ]
  },
  {
   "cell_type": "code",
   "execution_count": 72,
   "metadata": {},
   "outputs": [
    {
     "data": {
      "text/plain": [
       "treatment  seek_help \n",
       "No         No            323\n",
       "           Don't know    197\n",
       "           Yes           102\n",
       "Yes        No            323\n",
       "           Don't know    166\n",
       "           Yes           148\n",
       "Name: seek_help, dtype: int64"
      ]
     },
     "execution_count": 72,
     "metadata": {},
     "output_type": "execute_result"
    }
   ],
   "source": [
    "tech.groupby(['treatment'])['seek_help'].value_counts()"
   ]
  },
  {
   "cell_type": "code",
   "execution_count": 73,
   "metadata": {},
   "outputs": [
    {
     "data": {
      "text/plain": [
       "treatment  anonymity \n",
       "No         Don't know    448\n",
       "           Yes           147\n",
       "           No             27\n",
       "Yes        Don't know    371\n",
       "           Yes           228\n",
       "           No             38\n",
       "Name: anonymity, dtype: int64"
      ]
     },
     "execution_count": 73,
     "metadata": {},
     "output_type": "execute_result"
    }
   ],
   "source": [
    "tech.groupby(['treatment'])['anonymity'].value_counts()"
   ]
  },
  {
   "cell_type": "code",
   "execution_count": 74,
   "metadata": {},
   "outputs": [
    {
     "data": {
      "text/plain": [
       "treatment  leave             \n",
       "No         Don't know            309\n",
       "           Somewhat easy         135\n",
       "           Very easy             103\n",
       "           Somewhat difficult     44\n",
       "           Very difficult         31\n",
       "Yes        Don't know            254\n",
       "           Somewhat easy         131\n",
       "           Very easy             103\n",
       "           Somewhat difficult     82\n",
       "           Very difficult         67\n",
       "Name: leave, dtype: int64"
      ]
     },
     "execution_count": 74,
     "metadata": {},
     "output_type": "execute_result"
    }
   ],
   "source": [
    "tech.groupby(['treatment'])['leave'].value_counts()"
   ]
  },
  {
   "cell_type": "markdown",
   "metadata": {},
   "source": [
    "## Pessoal"
   ]
  },
  {
   "cell_type": "code",
   "execution_count": 89,
   "metadata": {},
   "outputs": [
    {
     "data": {
      "text/plain": [
       "Gender  work_interfere\n",
       "female  Sometimes         108\n",
       "        Rarely             44\n",
       "        NaN                36\n",
       "        Often              34\n",
       "        Never              25\n",
       "male    Sometimes         346\n",
       "        NaN               227\n",
       "        Never             187\n",
       "        Rarely            126\n",
       "        Often             105\n",
       "trans   Sometimes          11\n",
       "        Often               3\n",
       "        Rarely              3\n",
       "        NaN                 1\n",
       "        Never               1\n",
       "Name: work_interfere, dtype: int64"
      ]
     },
     "execution_count": 89,
     "metadata": {},
     "output_type": "execute_result"
    }
   ],
   "source": [
    "tech.groupby(['Gender'])['work_interfere'].value_counts()"
   ]
  },
  {
   "cell_type": "code",
   "execution_count": 110,
   "metadata": {},
   "outputs": [
    {
     "data": {
      "text/plain": [
       "Gender  mental_health_consequence\n",
       "female  Maybe                        108\n",
       "        No                            73\n",
       "        Yes                           66\n",
       "male    No                           413\n",
       "        Maybe                        364\n",
       "        Yes                          214\n",
       "trans   Yes                           10\n",
       "        Maybe                          5\n",
       "        No                             4\n",
       "Name: mental_health_consequence, dtype: int64"
      ]
     },
     "execution_count": 110,
     "metadata": {},
     "output_type": "execute_result"
    }
   ],
   "source": [
    "tech.groupby(['Gender'])['mental_health_consequence'].value_counts()"
   ]
  },
  {
   "cell_type": "markdown",
   "metadata": {},
   "source": [
    "# Classificação"
   ]
  },
  {
   "cell_type": "code",
   "execution_count": 124,
   "metadata": {},
   "outputs": [],
   "source": [
    "from sklearn.naive_bayes import GaussianNB\n",
    "gnb = GaussianNB()"
   ]
  },
  {
   "cell_type": "markdown",
   "metadata": {},
   "source": [
    "### Quantificar variáveis categóricas"
   ]
  },
  {
   "cell_type": "code",
   "execution_count": null,
   "metadata": {},
   "outputs": [],
   "source": [
    "for (row, col) in tech.iterrows():\n",
    "\n",
    "    if col.Gender == 'male':\n",
    "        tech['Gender'].replace(to_replace=col.Gender, value=0, inplace=True)\n",
    "    if col.Gender == 'female':\n",
    "        tech['Gender'].replace(to_replace=col.Gender, value=1, inplace=True)\n",
    "    if col.Gender == 'trans':\n",
    "        tech['Gender'].replace(to_replace=col.Gender, value=2, inplace=True)\n",
    "    if col.mental_health_consequence == 'No':\n",
    "        tech['mental_health_consequence'].replace(to_replace=col.mental_health_consequence, value=0, inplace=True)\n",
    "    if col.mental_health_consequence == 'Maybe':\n",
    "        tech['mental_health_consequence'].replace(to_replace=col.mental_health_consequence, value=1, inplace=True)\n",
    "    if col.mental_health_consequence == 'Yes':\n",
    "        tech['mental_health_consequence'].replace(to_replace=col.mental_health_consequence, value=2, inplace=True)"
   ]
  },
  {
   "cell_type": "markdown",
   "metadata": {},
   "source": [
    "### Treinamento"
   ]
  },
  {
   "cell_type": "code",
   "execution_count": 197,
   "metadata": {},
   "outputs": [],
   "source": [
    "X = tech[['Gender','mental_health_consequence']]\n",
    "Y = tech['work_interfere']\n",
    "\n",
    "from sklearn.model_selection import train_test_split\n",
    "X_train, X_test, Y_train, Y_test = train_test_split(X, Y, test_size=0.25, random_state=42)\n",
    "\n",
    "y_pred = gnb.fit(X_train, Y_train).predict(X_test)"
   ]
  },
  {
   "cell_type": "code",
   "execution_count": 198,
   "metadata": {},
   "outputs": [
    {
     "data": {
      "text/plain": [
       "0.40634920634920635"
      ]
     },
     "execution_count": 198,
     "metadata": {},
     "output_type": "execute_result"
    }
   ],
   "source": [
    "sum(y_pred == Y_test) / len(y_pred)"
   ]
  },
  {
   "cell_type": "code",
   "execution_count": null,
   "metadata": {},
   "outputs": [],
   "source": []
  }
 ],
 "metadata": {
  "kernelspec": {
   "display_name": "Python 3",
   "language": "python",
   "name": "python3"
  },
  "language_info": {
   "codemirror_mode": {
    "name": "ipython",
    "version": 3
   },
   "file_extension": ".py",
   "mimetype": "text/x-python",
   "name": "python",
   "nbconvert_exporter": "python",
   "pygments_lexer": "ipython3",
   "version": "3.7.4"
  }
 },
 "nbformat": 4,
 "nbformat_minor": 2
}
